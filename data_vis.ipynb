{
 "cells": [
  {
   "cell_type": "code",
   "execution_count": null,
   "metadata": {},
   "outputs": [
    {
     "ename": "",
     "evalue": "",
     "output_type": "error",
     "traceback": [
      "\u001b[1;31mRunning cells with '/usr/bin/python' requires the ipykernel package.\n",
      "\u001b[1;31mRun the following command to install 'ipykernel' into the Python environment. \n",
      "\u001b[1;31mCommand: '/usr/bin/python -m pip install ipykernel -U --user --force-reinstall'"
     ]
    }
   ],
   "source": [
    "import pandas as pd\n",
    "import matplotlib.pyplot as plt\n",
    "\n",
    "\n",
    "def PDdescribe(filename):\n",
    "    \"\"\"function which returns descriptive stats about input data\"\"\"\n",
    "    df = pd.read_csv(filename)\n",
    "    return df.describe()\n",
    "\n",
    "\n",
    "results = PDdescribe(\"nba.csv\")\n",
    "\n",
    "print(results)\n",
    "\n",
    "nba = pd.read_csv(\"nba.csv\")\n",
    "plt.figure(figsize=(10, 8))\n",
    "plt.scatter(nba[\"Age\"], nba[\"Weight\"])\n",
    "plt.title(\"NBA player Weight vs Age\")\n",
    "plt.xlabel(\"Height\")\n",
    "plt.ylabel(\"Age\")\n",
    "plt.show(block=True)\n"
   ]
  }
 ],
 "metadata": {
  "kernelspec": {
   "display_name": "Python 3",
   "language": "python",
   "name": "python3"
  },
  "language_info": {
   "name": "python",
   "version": "3.11.5"
  },
  "orig_nbformat": 4
 },
 "nbformat": 4,
 "nbformat_minor": 2
}
